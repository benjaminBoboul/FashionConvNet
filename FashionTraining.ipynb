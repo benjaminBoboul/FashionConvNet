{
  "nbformat": 4,
  "nbformat_minor": 0,
  "metadata": {
    "colab": {
      "name": "FashionTraining.ipynb",
      "provenance": [],
      "authorship_tag": "ABX9TyPeeKMltFr2+DSm7M1EV7Q2",
      "include_colab_link": true
    },
    "kernelspec": {
      "name": "python3",
      "display_name": "Python 3"
    }
  },
  "cells": [
    {
      "cell_type": "markdown",
      "metadata": {
        "id": "view-in-github",
        "colab_type": "text"
      },
      "source": [
        "<a href=\"https://colab.research.google.com/github/benjaminBoboul/FashionConvNet/blob/master/FashionTraining.ipynb\" target=\"_parent\"><img src=\"https://colab.research.google.com/assets/colab-badge.svg\" alt=\"Open In Colab\"/></a>"
      ]
    },
    {
      "cell_type": "markdown",
      "metadata": {
        "id": "nBRpEvluwf3z",
        "colab_type": "text"
      },
      "source": [
        "# Setup directory\n",
        "\n",
        "cloning and merging directories together."
      ]
    },
    {
      "cell_type": "code",
      "metadata": {
        "id": "2wIDfIQBv02v",
        "colab_type": "code",
        "colab": {}
      },
      "source": [
        "!git clone https://github.com/aryapei/In-shop-Clothes-From-Deepfashion.git\n",
        "!rsync -a ./In-shop-Clothes-From-Deepfashion/Img/MEN/ ./In-shop-Clothes-From-Deepfashion/Img/WOMEN/"
      ],
      "execution_count": 0,
      "outputs": []
    },
    {
      "cell_type": "markdown",
      "metadata": {
        "id": "jT2tyGsDwsaU",
        "colab_type": "text"
      },
      "source": [
        "# Define Neural Network\n",
        "\n",
        "Create a ConvNet instance and remove last layer to implement transfert learning.\n",
        "\n",
        ":warning: do not forget to freeze pretrained model reduce training workload."
      ]
    },
    {
      "cell_type": "code",
      "metadata": {
        "id": "_oUzXb9qxCPl",
        "colab_type": "code",
        "colab": {}
      },
      "source": [
        "%tensorflow_version 2.x\n",
        "from tensorflow.keras.applications import InceptionResNetV2\n",
        "from tensorflow.keras.preprocessing.image import ImageDataGenerator\n",
        "import subprocess\n",
        "from tensorflow.keras.models import Sequential\n",
        "from tensorflow.keras.optimizers import RMSprop\n",
        "from tensorflow.keras.layers import Flatten, Dropout, Dense, GlobalAveragePooling2D\n",
        "from tensorflow.keras import losses\n",
        "\n",
        "head = InceptionResNetV2(input_shape=(200, 200, 3), weights=\"imagenet\", include_top=False)\n",
        "\n",
        "model = Sequential()\n",
        "model.add(head)\n",
        "model.add(GlobalAveragePooling2D())\n",
        "model.add(Dense(512,activation=\"relu\"))\n",
        "model.add(Dropout(0.3))\n",
        "model.add(Dense(512, activation=\"relu\"))\n",
        "model.add(Dropout(0.3))\n",
        "model.add(Dense(17, activation=\"softmax\"))\n",
        "\n",
        "print(f\"Number of trainable weights before freezing the head base: {len(model.trainable_weights)}.\")\n",
        "head.trainable = False\n",
        "\n",
        "model.compile(loss=\"categorical_crossentropy\", optimizer=RMSprop(lr=1e-4), metrics=[\"accuracy\"])\n",
        "\n",
        "print(f\"Number of trainable weights after freezing the head base: {len(model.trainable_weights)}.\")\n",
        "\n",
        "model.summary()\n",
        "\n",
        "for layer in model.layers:\n",
        "    print(layer, layer.trainable)"
      ],
      "execution_count": 0,
      "outputs": []
    },
    {
      "cell_type": "markdown",
      "metadata": {
        "id": "hXmLBS0zxOnQ",
        "colab_type": "text"
      },
      "source": [
        "# Train our neural network\n",
        "\n",
        "We're using the dataset from https://github.com/aryapei/In-shop-Clothes-From-Deepfashion/ to train our neural network with flow_from_directory feature."
      ]
    },
    {
      "cell_type": "code",
      "metadata": {
        "id": "BPW7YbQPxlFY",
        "colab_type": "code",
        "colab": {}
      },
      "source": [
        "train_datagen = ImageDataGenerator(rescale=1./255,\n",
        "                                   rotation_range=40,\n",
        "                                   width_shift_range=0.2,\n",
        "                                   height_shift_range=0.2,\n",
        "                                   shear_range=0.2,\n",
        "                                   zoom_range=0.2,\n",
        "                                   horizontal_flip=True,\n",
        "                                   validation_split=0.2)\n",
        "\n",
        "batch_size = 8\n",
        "\n",
        "print(\"Generating train dataset\")\n",
        "train_generator = train_datagen.flow_from_directory(\"./In-shop-Clothes-From-Deepfashion/Img/WOMEN/\",\n",
        "                                                    batch_size=batch_size,\n",
        "                                                    target_size=(200, 200),\n",
        "                                                    class_mode=\"categorical\",\n",
        "                                                    subset=\"training\")\n",
        "\n",
        "print(f\"Labels: {train_generator.class_indices}\")\n",
        "\n",
        "print(\"Generating validation dataset\")\n",
        "validation_generator = train_datagen.flow_from_directory(\"./In-shop-Clothes-From-Deepfashion/Img/WOMEN/\",\n",
        "                                                         batch_size=batch_size,\n",
        "                                                         target_size=(200, 200),\n",
        "                                                         class_mode=\"categorical\",\n",
        "                                                         subset=\"validation\")\n",
        "\n",
        "model.fit(train_generator,\n",
        "          validation_data=validation_generator,\n",
        "          validation_steps=validation_generator.samples // batch_size,\n",
        "          steps_per_epoch=train_generator.samples // batch_size,\n",
        "          use_multiprocessing=False,\n",
        "          epochs=100)\n",
        "\n",
        "model.save('plankton_mind.h5')"
      ],
      "execution_count": 0,
      "outputs": []
    }
  ]
}